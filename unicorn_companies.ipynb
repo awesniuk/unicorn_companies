{
 "metadata": {
  "kernelspec": {
   "display_name": "Streamlit Notebook",
   "name": "streamlit"
  }
 },
 "nbformat_minor": 5,
 "nbformat": 4,
 "cells": [
  {
   "cell_type": "markdown",
   "id": "ebbaebcb-bb52-4529-9c2d-381afd5d1b25",
   "metadata": {
    "name": "cell1",
    "collapsed": false
   },
   "source": "# Unicorn Companies Data Analysis\n\nIn this notebook, we will analyze the Unicorn Companies dataset using Snowflake SQL. The analysis includes loading the data, cleaning it, and addressing various business questions using SQL queries.\n\nThe dataset contains information about unicorn companies, including their valuations, industries, and country of origin."
  },
  {
   "cell_type": "markdown",
   "id": "93016c46-dd1e-4387-9707-45680e4c0201",
   "metadata": {
    "name": "cell2",
    "collapsed": false
   },
   "source": "# 01. Loading data"
  },
  {
   "cell_type": "code",
   "id": "7e5e6cf1-3a33-47fa-bda9-543c72178fa5",
   "metadata": {
    "language": "sql",
    "name": "cell3"
   },
   "outputs": [],
   "source": "USE DATABASE MAIN",
   "execution_count": null
  },
  {
   "cell_type": "code",
   "id": "55fc70cb-4e8f-472a-b4e0-e68c3ba0293e",
   "metadata": {
    "language": "sql",
    "name": "cell4",
    "codeCollapsed": false,
    "collapsed": false
   },
   "outputs": [],
   "source": "CREATE OR REPLACE TABLE TBL AS\nSELECT\n    Industry,\n    Company,\n    Country,\n    City,\n    Total_Raised,\n    Valuation,\n    Founded_Year,\n    Date_Joined\nFROM\n    UNICORN_COMPANIES;",
   "execution_count": null
  },
  {
   "cell_type": "markdown",
   "id": "d7ab31d8-de0a-438a-a7a5-99e528adc162",
   "metadata": {
    "name": "cell6",
    "collapsed": false
   },
   "source": "# 02. Data Cleaning\n\nTransformation in"
  },
  {
   "cell_type": "code",
   "id": "54a295a2-ef4f-45d2-9d2d-32506bd4587c",
   "metadata": {
    "language": "sql",
    "name": "cell7",
    "collapsed": false,
    "codeCollapsed": false
   },
   "outputs": [],
   "source": "UPDATE TBL\nSET \n    INDUSTRY = REPLACE(INDUSTRY, '\"', ''),\n    VALUATION = REPLACE(VALUATION, '$', ''),\n    TOTAL_RAISED = REPLACE(REPLACE(TOTAL_RAISED, '$', ''), 'None', '0');",
   "execution_count": null
  },
  {
   "cell_type": "code",
   "id": "e022160b-e0f1-4752-a5f4-2b53387150f1",
   "metadata": {
    "language": "sql",
    "name": "cell8",
    "codeCollapsed": false,
    "collapsed": false
   },
   "outputs": [],
   "source": "DELETE FROM TBL\nWHERE \n    Industry NOT IN (\n        'Artificial intelligence', \n        'Other', \n        'Fintech', \n        'Internet software & services',\n        'Supply chain, logistics, & delivery',\n        'Data management & analytics',\n        'E-commerce & direct-to-consumer',\n        'Edtech',\n        'Hardware',\n        'Health',\n        'Auto & transportation',\n        'Cybersecurity', \n        'Mobile & telecommunications',\n        'Consumer & retail',\n        'Travel'\n    )\n    OR FOUNDED_YEAR = 'None'\n    OR YEAR(CAST(Date_Joined AS DATE)) < YEAR(CAST(CONCAT(FOUNDED_YEAR, '-01-01') AS DATE));",
   "execution_count": null
  },
  {
   "cell_type": "code",
   "id": "a3f7167b-3956-480f-9018-f56b57dada02",
   "metadata": {
    "language": "sql",
    "name": "cell9",
    "collapsed": false
   },
   "outputs": [],
   "source": "UPDATE TBL\nSET TOTAL_RAISED = \n    COALESCE(\n        CASE\n            WHEN TOTAL_RAISED IS NULL OR TRIM(TOTAL_RAISED) = '' THEN '0'\n            WHEN RIGHT(TOTAL_RAISED, 1) = 'B' THEN REPLACE(TOTAL_RAISED, 'B', '')\n            WHEN RIGHT(TOTAL_RAISED, 1) = 'M' THEN \n                CAST(REPLACE(REPLACE(TOTAL_RAISED, ',', ''), 'M', '') AS FLOAT) / 1000\n            WHEN RIGHT(TOTAL_RAISED, 1) = 'K' THEN \n                CAST(REPLACE(REPLACE(TOTAL_RAISED, ',', ''), 'K', '') AS FLOAT) / 1000000\n            ELSE REPLACE(REPLACE(TOTAL_RAISED, ',', ''), '$', '')\n        END, \n        '0'\n    );",
   "execution_count": null
  },
  {
   "cell_type": "code",
   "id": "54b719d5-709c-4c17-9223-acc40f136354",
   "metadata": {
    "language": "sql",
    "name": "cell11",
    "collapsed": false
   },
   "outputs": [],
   "source": "ALTER TABLE TBL\nDROP COLUMN FOUNDED_YEAR, DATE_JOINED;",
   "execution_count": null
  },
  {
   "cell_type": "markdown",
   "id": "2eb6e4b3-776a-41d2-bd1a-f26d122803a3",
   "metadata": {
    "name": "cell12",
    "collapsed": false
   },
   "source": "# 03. Analyzing Data\n\nWith the data cleaned, we can analyze it to answer business questions. We will focus on the industry and country versus valuation and total raised variables."
  },
  {
   "cell_type": "code",
   "id": "0a7f00e3-b6b8-4f64-bf34-846001c22253",
   "metadata": {
    "language": "sql",
    "name": "cell13",
    "codeCollapsed": false,
    "collapsed": false
   },
   "outputs": [],
   "source": "SELECT * FROM TBL\nLIMIT 6;",
   "execution_count": null
  },
  {
   "cell_type": "markdown",
   "id": "a7540b97-30fa-479b-a650-d258ca3567d9",
   "metadata": {
    "name": "cell14",
    "collapsed": false
   },
   "source": "What is the average company valuation for each industry? How do these industries rank based on their average valuation?"
  },
  {
   "cell_type": "code",
   "id": "ab870643-ba06-4fd0-ba75-4cd3469fd849",
   "metadata": {
    "language": "sql",
    "name": "cell15",
    "collapsed": false
   },
   "outputs": [],
   "source": "SELECT\n    Industry,\n    AVG(Valuation) AS AvgValuation\nFROM\n    TBL\nGROUP BY\n    Industry\nORDER BY\n    AvgValuation DESC;",
   "execution_count": null
  },
  {
   "cell_type": "markdown",
   "id": "dec6471e-8d77-4e7b-9c23-ee043f8695b1",
   "metadata": {
    "name": "cell20",
    "collapsed": false
   },
   "source": "Which industry has the highest total raised?"
  },
  {
   "cell_type": "code",
   "id": "e1411fab-8945-4971-92c5-d889eba00c22",
   "metadata": {
    "language": "sql",
    "name": "cell21",
    "collapsed": false,
    "codeCollapsed": false
   },
   "outputs": [],
   "source": "SELECT\n    Industry,\n    SUM(Total_Raised) AS Total_Raised\nFROM\n    TBL\nGROUP BY\n    Industry\nORDER BY\n    Total_Raised DESC;",
   "execution_count": null
  },
  {
   "cell_type": "markdown",
   "id": "f66fec93-7f3b-4497-b592-7ed430969ec6",
   "metadata": {
    "name": "cell18",
    "collapsed": false
   },
   "source": "Which are the top 10 cities in the United States with the highest average company valuation? How many companies are there in each of these cities?"
  },
  {
   "cell_type": "code",
   "id": "0272f787-3020-4045-b413-26eab095957d",
   "metadata": {
    "language": "sql",
    "name": "cell19",
    "collapsed": false
   },
   "outputs": [],
   "source": "WITH CityAverageValuation AS (\n    SELECT\n        City,\n        AVG(Valuation) AS AvgValuation,\n        COUNT(*) AS NumberOfCompanies\n    FROM\n        TBL\n    WHERE\n        Country = 'United States'\n    GROUP BY\n        City\n)\nSELECT\n    City,\n    AvgValuation,\n    NumberOfCompanies\nFROM\n    CityAverageValuation\nORDER BY\n    NumberOfCompanies DESC\nLIMIT 10;",
   "execution_count": null
  },
  {
   "cell_type": "markdown",
   "id": "9e252876-3f1a-4fbe-bd62-37aeb55c6ea7",
   "metadata": {
    "name": "cell26",
    "collapsed": false
   },
   "source": "What are the top companies in each industry based on the total amount raised, and how do they rank within their industry?"
  },
  {
   "cell_type": "code",
   "id": "b8fd587f-0ff4-41d0-bb46-571a45c2ccdb",
   "metadata": {
    "language": "sql",
    "name": "cell27",
    "collapsed": false
   },
   "outputs": [],
   "source": "WITH RankedCompanies AS (\n    SELECT\n        Company,\n        Industry,\n        Total_Raised,\n        AVG(TBL.Total_Raised) OVER (PARTITION BY TBL.Industry) AS AvgTotalRaised,\n        RANK() OVER (PARTITION BY Industry ORDER BY Total_Raised DESC) AS TotalRaisedRank\n    FROM\n        TBL\n)\nSELECT\n    Company,\n    Industry,\n    Total_Raised,\n    AvgTotalRaised,\n    TotalRaisedRank\nFROM\n    RankedCompanies\nWHERE\n    TotalRaisedRank <= 3;",
   "execution_count": null
  },
  {
   "cell_type": "markdown",
   "id": "689b3f04-98a3-4e73-89e9-c9dea795083a",
   "metadata": {
    "name": "cell22",
    "collapsed": false
   },
   "source": "Which are the top 3 companies by valuation within each industry? What is their valuation relative to the average valuation in their industry?"
  },
  {
   "cell_type": "code",
   "id": "4b4c5c8b-6e61-490e-82c3-27cf15b1b30f",
   "metadata": {
    "language": "sql",
    "name": "cell23",
    "collapsed": false
   },
   "outputs": [],
   "source": "WITH RankedCompanies AS (\n    SELECT\n        TBL.Company,\n        TBL.Industry,\n        TBL.Valuation,\n        AVG(TBL.Valuation) OVER (PARTITION BY TBL.Industry) AS AvgValuation,\n        RANK() OVER (PARTITION BY TBL.Industry ORDER BY TBL.Valuation DESC) AS ValuationRank\n    FROM\n        TBL\n)\nSELECT\n    Company,\n    Industry,\n    Valuation,\n    AvgValuation,\n    ValuationRank\nFROM\n    RankedCompanies\nQUALIFY\n    ValuationRank <= 3;\n",
   "execution_count": null
  },
  {
   "cell_type": "markdown",
   "id": "a0a75f2f-fecb-4d9e-b96c-5b5f84a02bf9",
   "metadata": {
    "name": "cell28",
    "collapsed": false
   },
   "source": "What is the correlation between total raised and valuation by country? Calculated for top countries by number of comapnies (HAVING COUNT(*) > x)."
  },
  {
   "cell_type": "code",
   "id": "c12857ea-c7b8-4f85-9fe9-88b5e7de0fcb",
   "metadata": {
    "language": "sql",
    "name": "cell29",
    "collapsed": false
   },
   "outputs": [],
   "source": "SELECT\n    Country,\n    CORR(Total_Raised, Valuation) AS Correlation\nFROM\n    TBL\nGROUP BY\n    Country\nHAVING\n    COUNT(*) > 50\nORDER BY\n    Correlation DESC;",
   "execution_count": null
  }
 ]
}